{
  "nbformat": 4,
  "nbformat_minor": 0,
  "metadata": {
    "colab": {
      "provenance": []
    },
    "kernelspec": {
      "name": "python3",
      "display_name": "Python 3"
    },
    "language_info": {
      "name": "python"
    }
  },
  "cells": [
    {
      "cell_type": "markdown",
      "source": [
        "##Business Understanding"
      ],
      "metadata": {
        "id": "TGzFu9mZW3oF"
      }
    },
    {
      "cell_type": "markdown",
      "source": [
        "####Business Objective"
      ],
      "metadata": {
        "id": "jo4o8ZpJmFno"
      }
    },
    {
      "cell_type": "markdown",
      "source": [
        "Tujuan bisnis dari dataset ramen ratings adalah untuk melakukan analisis yang mendalam terhadap faktor-faktor yang memengaruhi penilaian konsumen terhadap ramen. Selain itu, tujuannya adalah untuk meningkatkan kualitas produk, memahami keinginan dan preferensi pelanggan, dan membuat keputusan yang dapat meningkatkan pangsa pasar ramen."
      ],
      "metadata": {
        "id": "PXBknJoNXLAV"
      }
    },
    {
      "cell_type": "markdown",
      "source": [
        "###Assess Situation"
      ],
      "metadata": {
        "id": "Eyp_IB3-W9tI"
      }
    },
    {
      "cell_type": "markdown",
      "source": [
        "Situasi bisnis ini melibatkan pemahaman terhadap preferensi pelanggan terhadap ramen. Dengan memahami tren penilaian, produsen dapat merespons secara lebih baik terhadap kebutuhan pasar dan meningkatkan daya saing produk mereka. Kesadaran terhadap kecenderungan pasar dan kepuasan pelanggan dapat membantu menciptakan ramen yang lebih disukai oleh konsumen."
      ],
      "metadata": {
        "id": "Ev0RvRdwl5Ep"
      }
    },
    {
      "cell_type": "markdown",
      "source": [
        "###Data Mining Goals"
      ],
      "metadata": {
        "id": "QOKlJCqwmzPA"
      }
    },
    {
      "cell_type": "markdown",
      "source": [
        "Bertujuan untuk mengidentifikasi faktor-faktor kunci yang mempengaruhi penilaian konsumen terhadap ramen, menentukan segmen pelanggan dengan preferensi khusus, membangun model prediktif untuk memproyeksikan penilaian di masa depan, dan melakukan perbandingan penilaian produk ramen dengan pesaing untuk mengidentifikasi kekuatan dan kelemahan produk. Tujuan utamanya adalah memberikan wawasan yang dapat mendukung pengambilan keputusan dalam meningkatkan kualitas dan daya saing ramen di pasar."
      ],
      "metadata": {
        "id": "b7qFLZojmz_Q"
      }
    },
    {
      "cell_type": "markdown",
      "source": [
        "###Project Plan"
      ],
      "metadata": {
        "id": "0dw_pXXrnBiz"
      }
    },
    {
      "cell_type": "markdown",
      "source": [
        "Rencana proyek dimulai dengan pengumpulan data dari sumber yang tersedia. Data kemudian akan dibersihkan dan diolah untuk mengatasi masalah seperti nilai yang hilang atau tidak valid. Setelah itu, pemeriksaan data akan dilakukan untuk memahami karakteristik dataset dan menemukan pola yang menarik. Selanjutnya, teknik analisis akan digunakan dan hasil dari analisis ini akan memberikan wawasan tentang faktor-faktor kunci yang memengaruhi penilaian ramen, sehingga produsen dapat membuat keputusan yang lebih baik dalam meningkatkan kualitas produk mereka."
      ],
      "metadata": {
        "id": "hE97uWuEnFN2"
      }
    }
  ]
}